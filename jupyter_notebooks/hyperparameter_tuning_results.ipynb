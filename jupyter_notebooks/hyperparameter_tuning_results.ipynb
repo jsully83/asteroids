{
 "cells": [
  {
   "cell_type": "code",
   "execution_count": null,
   "metadata": {},
   "outputs": [],
   "source": [
    "#click \"Launch TensorBoard Session\" to load a new page showing the tensorboard from keras\n",
    "%tensorboard --logdir logs/hparam_tuning"
   ]
  }
 ],
 "metadata": {
  "kernelspec": {
   "display_name": "tf",
   "language": "python",
   "name": "python3"
  },
  "language_info": {
   "name": "python",
   "version": "3.10.7 | packaged by conda-forge | (main, Nov 21 2022, 13:21:27) [Clang 14.0.6 ]"
  },
  "orig_nbformat": 4,
  "vscode": {
   "interpreter": {
    "hash": "c9dd09d1e1b4d2cd2d1344195372e98b08909baae20ef83a14bb063ac5d8313d"
   }
  }
 },
 "nbformat": 4,
 "nbformat_minor": 2
}
